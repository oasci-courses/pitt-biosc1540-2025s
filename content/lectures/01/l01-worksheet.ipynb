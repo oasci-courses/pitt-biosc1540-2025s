{
 "cells": [
  {
   "cell_type": "markdown",
   "metadata": {},
   "source": [
    "# L01 worksheet"
   ]
  },
  {
   "cell_type": "markdown",
   "metadata": {},
   "source": [
    "## Printing and comments\n",
    "\n",
    "In this section, you will learn how to:\n",
    "\n",
    "- Use the `print()` function to display information.\n",
    "- Write comments to explain your code.\n",
    "\n",
    "**Related material:** [printing](https://python.crumblearn.org/basics/printing/) and [comments](https://python.crumblearn.org/basics/comments/)"
   ]
  },
  {
   "cell_type": "markdown",
   "metadata": {},
   "source": [
    "The `print()` function is used to display output on the screen.\n",
    "Here's a simple example:"
   ]
  },
  {
   "cell_type": "code",
   "execution_count": null,
   "metadata": {},
   "outputs": [],
   "source": [
    "print(\"Computational biology is the best major!\")"
   ]
  },
  {
   "cell_type": "code",
   "execution_count": null,
   "metadata": {},
   "outputs": [],
   "source": [
    "print(\"Welcome to Python programming!\")"
   ]
  },
  {
   "cell_type": "code",
   "execution_count": null,
   "metadata": {},
   "outputs": [],
   "source": [
    "print(\"Welcome\", \"to\", \"Python\", \"programming!\")"
   ]
  },
  {
   "cell_type": "code",
   "execution_count": null,
   "metadata": {},
   "outputs": [],
   "source": [
    "print(42)\n",
    "print(3.14)"
   ]
  },
  {
   "cell_type": "code",
   "execution_count": null,
   "metadata": {},
   "outputs": [],
   "source": [
    "print(\"The answer is:\", 42)"
   ]
  },
  {
   "cell_type": "code",
   "execution_count": null,
   "metadata": {},
   "outputs": [],
   "source": [
    "print(\"Sometimes I want to\\n\\n\\nbe dramatic.\")"
   ]
  },
  {
   "cell_type": "markdown",
   "metadata": {},
   "source": [
    "Comments are used to explain what your code does.\n",
    "They are ignored by Python when the code is run."
   ]
  },
  {
   "cell_type": "code",
   "execution_count": null,
   "metadata": {},
   "outputs": [],
   "source": [
    "# This is a single-line comment\n",
    "print(\"Comments are ignored by Python.\")"
   ]
  },
  {
   "cell_type": "code",
   "execution_count": null,
   "metadata": {},
   "outputs": [],
   "source": [
    "\"\"\"\n",
    "This is a multi-line comment.\n",
    "It can span multiple lines.\n",
    "\"\"\"\n",
    "\n",
    "print(\"Use comments to explain your code!\")"
   ]
  },
  {
   "cell_type": "markdown",
   "metadata": {},
   "source": [
    "**🏅 Exercises**\n",
    "\n",
    "**1.1** In the cell below, print your name, age, and favorite color on one line.\n",
    "For example\n",
    "\n",
    "```text\n",
    "Alex, 22, Purple\n",
    "```"
   ]
  },
  {
   "cell_type": "code",
   "execution_count": null,
   "metadata": {},
   "outputs": [],
   "source": []
  },
  {
   "cell_type": "markdown",
   "metadata": {},
   "source": [
    "**1.2** In the cell below, print the same information but only one on each line.\n",
    "For example,\n",
    "\n",
    "```text\n",
    "Alex\n",
    "22\n",
    "Purple\n",
    "```"
   ]
  },
  {
   "cell_type": "code",
   "execution_count": null,
   "metadata": {},
   "outputs": [],
   "source": []
  },
  {
   "cell_type": "markdown",
   "metadata": {},
   "source": [
    "**1.3** In the cell below, print the same text as before but using only one `print` statement."
   ]
  },
  {
   "cell_type": "code",
   "execution_count": null,
   "metadata": {},
   "outputs": [],
   "source": []
  },
  {
   "cell_type": "markdown",
   "metadata": {},
   "source": [
    "## Arithmetic operations\n",
    "\n",
    "In this section, you will learn how to:\n",
    "\n",
    "- Perform basic arithmetic operations using Python.\n",
    "- Understand operator precedence.\n",
    "\n",
    "**Relevant material:** [Arithmetic](https://python.crumblearn.org/basics/arithmetic/)\n",
    "\n",
    "Python supports the following arithmetic operators:\n",
    "\n",
    "| **Operator** | **Description**             | **Example**             |\n",
    "|--------------|-----------------------------|-------------------------|\n",
    "| `+`          | Addition                    | `2 + 3` → `5`           |\n",
    "| `-`          | Subtraction                 | `7 - 4` → `3`           |\n",
    "| `*`          | Multiplication              | `3 * 4` → `12`          |\n",
    "| `/`          | Division                    | `8 / 2` → `4.0`         |\n",
    "| `//`         | Floor Division              | `7 // 3` → `2`          |\n",
    "| `%`          | Modulus (remainder)         | `7 % 3` → `1`           |\n",
    "| `**`         | Exponentiation              | `2 ** 3` → `8`          |"
   ]
  },
  {
   "cell_type": "code",
   "execution_count": null,
   "metadata": {},
   "outputs": [],
   "source": [
    "# Addition\n",
    "print(5 + 3)"
   ]
  },
  {
   "cell_type": "code",
   "execution_count": null,
   "metadata": {},
   "outputs": [],
   "source": [
    "# Subtraction\n",
    "print(10 - 7)"
   ]
  },
  {
   "cell_type": "code",
   "execution_count": null,
   "metadata": {},
   "outputs": [],
   "source": [
    "# Multiplication\n",
    "print(4 * 6)"
   ]
  },
  {
   "cell_type": "code",
   "execution_count": null,
   "metadata": {},
   "outputs": [],
   "source": [
    "# Division\n",
    "print(9 / 3)"
   ]
  },
  {
   "cell_type": "code",
   "execution_count": null,
   "metadata": {},
   "outputs": [],
   "source": [
    "# Floor Division\n",
    "print(7 // 2)"
   ]
  },
  {
   "cell_type": "code",
   "execution_count": null,
   "metadata": {},
   "outputs": [],
   "source": [
    "# Modulus\n",
    "print(8 % 3)"
   ]
  },
  {
   "cell_type": "code",
   "execution_count": null,
   "metadata": {},
   "outputs": [],
   "source": [
    "# Exponentiation\n",
    "print(2**4)"
   ]
  },
  {
   "cell_type": "markdown",
   "metadata": {},
   "source": [
    "When multiple operators are used in a single expression, Python follows **operator precedence** (order of operations):\n",
    "\n",
    "1. Parentheses `()`\n",
    "2. Exponentiation `**`\n",
    "3. Multiplication `*`, Division `/`, Floor Division `//`, Modulus `%`\n",
    "4. Addition `+`, Subtraction `-`"
   ]
  },
  {
   "cell_type": "code",
   "execution_count": null,
   "metadata": {},
   "outputs": [],
   "source": [
    "# Parentheses first\n",
    "print((2 + 3) * 4)"
   ]
  },
  {
   "cell_type": "code",
   "execution_count": null,
   "metadata": {},
   "outputs": [],
   "source": [
    "# Exponentiation before multiplication\n",
    "print(2**3 * 4)"
   ]
  },
  {
   "cell_type": "code",
   "execution_count": null,
   "metadata": {},
   "outputs": [],
   "source": [
    "# Left-to-right for operators with same precedence\n",
    "print(10 / 2 * 3)"
   ]
  },
  {
   "cell_type": "markdown",
   "metadata": {},
   "source": [
    "**🏅 Exercises**\n",
    "\n",
    "**2.1** Evaluate the expression $\\frac{(3 + 5)^{2}}{2 \\cdot 4}$.\n",
    "(Hint: the answer is `8.0`.)"
   ]
  },
  {
   "cell_type": "code",
   "execution_count": null,
   "metadata": {},
   "outputs": [],
   "source": []
  },
  {
   "cell_type": "markdown",
   "metadata": {},
   "source": [
    "## Variables\n",
    "\n",
    "In this section, you will learn:\n",
    "\n",
    "- How to define and use variables in Python.\n",
    "- Rules for naming variables.\n",
    "- The importance of variables in programming.\n",
    "\n",
    "**Relevant material:** [variables](https://python.crumblearn.org/basics/variables/)\n",
    "\n",
    "Variables are containers for storing data values.\n",
    "Think of them as labels for information you want to use in your program."
   ]
  },
  {
   "cell_type": "code",
   "execution_count": 4,
   "metadata": {},
   "outputs": [
    {
     "name": "stdout",
     "output_type": "stream",
     "text": [
      "Alice\n",
      "25\n",
      "3.141592\n"
     ]
    }
   ],
   "source": [
    "# Defining variables\n",
    "name = \"Alice\"\n",
    "age = 25\n",
    "pi = 3.141592\n",
    "\n",
    "# Using variables\n",
    "print(name)\n",
    "print(age)\n",
    "print(pi)"
   ]
  },
  {
   "cell_type": "code",
   "execution_count": null,
   "metadata": {},
   "outputs": [
    {
     "name": "stdout",
     "output_type": "stream",
     "text": [
      "Bob 111 3.141592\n",
      "bill 111 3.141592\n"
     ]
    }
   ],
   "source": [
    "name, age, pi = \"Bob\", 111, 3.141_592\n",
    "print(name, age, pi)\n",
    "\n",
    "name = \"Bill\"\n",
    "print(name, age, pi)"
   ]
  },
  {
   "cell_type": "markdown",
   "metadata": {},
   "source": [
    "Python automatically assigns a type to a variable based on the value you assign.\n",
    "\n",
    "| **Type**    | **Description**          | **Example**     |\n",
    "|-------------|--------------------------|-----------------|\n",
    "| `int`       | Integer (whole number)   | `age = 25`      |\n",
    "| `float`     | Decimal number           | `pi = 3.14`     |\n",
    "| `str`       | String (text)            | `name = \"Bob\"`  |\n",
    "| `bool`      | Boolean (True/False)     | `is_valid = True`|\n",
    "\n",
    "**Related material:** [Data types](https://python.crumblearn.org/basics/data-types/)"
   ]
  },
  {
   "cell_type": "code",
   "execution_count": null,
   "metadata": {},
   "outputs": [],
   "source": [
    "x = 10\n",
    "print(type(x))\n",
    "\n",
    "y = 3.14\n",
    "print(type(y))\n",
    "\n",
    "z = \"Hello\"\n",
    "print(type(z))"
   ]
  },
  {
   "cell_type": "markdown",
   "metadata": {},
   "source": [
    "**🏅 Exercises**\n",
    "\n",
    "**3.1**: Using the variables `length`, `height`, and `width`, compute the volume of a box with dimensions 10, 5, and 3, respectively."
   ]
  },
  {
   "cell_type": "code",
   "execution_count": null,
   "metadata": {},
   "outputs": [],
   "source": []
  },
  {
   "cell_type": "markdown",
   "metadata": {},
   "source": [
    "**3.2**: Imagine drawing a line from one corner of the rectangular box to the opposite corner, creating a right triangle with sides representing the length, width, and height; the diagonal is the hypotenuse of this triangle with length $\\sqrt{l^2 + h^2 + w^2}$.\n",
    "Calculate this diagonal length using the same `length`, `height`, and `width` variables below."
   ]
  },
  {
   "cell_type": "code",
   "execution_count": null,
   "metadata": {},
   "outputs": [],
   "source": []
  },
  {
   "cell_type": "markdown",
   "metadata": {},
   "source": [
    "**3.3**: Change the `length`, `height`, and `width` variables defined in **3.1** to be 8.32, 5.433, and 12.1 and recompute the diagonal using the same cell in **3.2**."
   ]
  },
  {
   "cell_type": "markdown",
   "metadata": {},
   "source": [
    "## Conditionals\n",
    "\n",
    "In this section, you will learn:\n",
    "\n",
    "- How to use `if`, `elif`, and `else` statements to control the flow of a program.\n",
    "- How to write programs that make decisions based on conditions.\n",
    "\n",
    "**Related material:** [conditionals](https://python.crumblearn.org/basics/conditionals/)\n",
    "\n",
    "Conditional statements allow a program to execute different blocks of code based on certain conditions.\n",
    "\n",
    "```python\n",
    "if condition:\n",
    "    # Code to execute if condition is True\n",
    "elif another_condition:\n",
    "    # Code to execute if another_condition is True\n",
    "else:\n",
    "    # Code to execute if none of the conditions are True\n",
    "```"
   ]
  },
  {
   "cell_type": "markdown",
   "metadata": {},
   "source": [
    "### if\n",
    "\n",
    "The `if` statement checks if a condition is `True`.\n",
    "If it is, the code block inside it runs."
   ]
  },
  {
   "cell_type": "code",
   "execution_count": null,
   "metadata": {},
   "outputs": [],
   "source": [
    "age = 20\n",
    "\n",
    "if age >= 18:\n",
    "    print(\"You are an adult!\")"
   ]
  },
  {
   "cell_type": "markdown",
   "metadata": {},
   "source": [
    "### if-else\n",
    "\n",
    "The `else` block runs if the condition in the `if` statement is `False`."
   ]
  },
  {
   "cell_type": "code",
   "execution_count": null,
   "metadata": {},
   "outputs": [],
   "source": [
    "temperature = 15  # Celsius\n",
    "\n",
    "if temperature > 20:\n",
    "    print(\"It's warm outside.\")\n",
    "else:\n",
    "    print(\"It's cold outside.\")"
   ]
  },
  {
   "cell_type": "markdown",
   "metadata": {},
   "source": [
    "### if-elif-else\n",
    "\n",
    "The `elif` (short for \"else if\") allows for multiple conditions to be checked."
   ]
  },
  {
   "cell_type": "code",
   "execution_count": null,
   "metadata": {},
   "outputs": [],
   "source": [
    "grade = 85\n",
    "\n",
    "if grade >= 90:\n",
    "    print(\"A\")\n",
    "elif grade >= 80:\n",
    "    print(\"B\")\n",
    "elif grade >= 70:\n",
    "    print(\"C\")\n",
    "else:\n",
    "    print(\"F\")"
   ]
  },
  {
   "cell_type": "markdown",
   "metadata": {},
   "source": [
    "### Logical operators\n",
    "\n",
    "You can combine conditions using logical operators:\n",
    "\n",
    "- `and`: All conditions must be `True`.\n",
    "- `or`: At least one condition must be `True`.\n",
    "- `not`: Negates the condition."
   ]
  },
  {
   "cell_type": "code",
   "execution_count": null,
   "metadata": {},
   "outputs": [],
   "source": [
    "# Using 'and'\n",
    "age = 25\n",
    "if age > 18 and age < 30:\n",
    "    print(\"You are a young adult.\")"
   ]
  },
  {
   "cell_type": "code",
   "execution_count": null,
   "metadata": {},
   "outputs": [],
   "source": [
    "# Using 'or'\n",
    "day = \"Saturday\"\n",
    "if day == \"Saturday\" or day == \"Sunday\":\n",
    "    print(\"It's the weekend!\")"
   ]
  },
  {
   "cell_type": "code",
   "execution_count": null,
   "metadata": {},
   "outputs": [],
   "source": [
    "# Using 'not'\n",
    "is_raining = False\n",
    "if not is_raining:\n",
    "    print(\"You don't need an umbrella.\")"
   ]
  },
  {
   "cell_type": "markdown",
   "metadata": {},
   "source": [
    "**🏅 Exercises**\n",
    "\n",
    "**4.1** Write a program that checks if a number is positive, negative, or zero."
   ]
  },
  {
   "cell_type": "code",
   "execution_count": null,
   "metadata": {},
   "outputs": [],
   "source": []
  },
  {
   "cell_type": "markdown",
   "metadata": {},
   "source": [
    "**4.2** Write a program that determines whether the year is a leap year or not using the following rules:\n",
    "\n",
    "-   A year is a leap year if it is divisible by 4.\n",
    "-   However, if the year is divisible by 100, it is not a leap year unless it is also divisible by 400.\n",
    "\n",
    "Print an appropriate message based on the result."
   ]
  },
  {
   "cell_type": "code",
   "execution_count": null,
   "metadata": {},
   "outputs": [],
   "source": []
  },
  {
   "cell_type": "markdown",
   "metadata": {},
   "source": [
    "## Collections\n",
    "\n",
    "In this section, you will learn:\n",
    "\n",
    "- What collections are and why they are useful.\n",
    "- How to use lists, tuples, and dictionaries in Python.\n",
    "\n",
    "**Related material:** [Collections](https://python.crumblearn.org/basics/collections/)\n",
    "\n",
    "Collections are data structures that allow you to group multiple values together.\n",
    "Python provides several types of collections, such as:\n",
    "\n",
    "- **Lists:** Ordered, changeable, and allow duplicate values.\n",
    "- **Tuples:** Ordered, unchangeable, and allow duplicate values.\n",
    "- **Dictionaries:** Unordered, changeable, and store data in key-value pairs.\n",
    "\n",
    "### Lists\n",
    "\n",
    "A list is a collection that is ordered and changeable.\n",
    "Lists are defined using square brackets `[]`.\n",
    "\n",
    "**Related material:** [Lists](https://python.crumblearn.org/basics/collections/list/)"
   ]
  },
  {
   "cell_type": "code",
   "execution_count": null,
   "metadata": {},
   "outputs": [],
   "source": [
    "# Creating a list\n",
    "fruits = [\"apple\", \"banana\", \"cherry\"]"
   ]
  },
  {
   "cell_type": "code",
   "execution_count": null,
   "metadata": {},
   "outputs": [],
   "source": [
    "# Accessing items by index\n",
    "print(fruits[0])"
   ]
  },
  {
   "cell_type": "code",
   "execution_count": null,
   "metadata": {},
   "outputs": [],
   "source": [
    "# Modifying a list\n",
    "fruits[1] = \"blueberry\"\n",
    "print(fruits)"
   ]
  },
  {
   "cell_type": "code",
   "execution_count": null,
   "metadata": {},
   "outputs": [],
   "source": [
    "# Adding items to a list\n",
    "fruits.append(\"orange\")\n",
    "print(fruits)"
   ]
  },
  {
   "cell_type": "code",
   "execution_count": null,
   "metadata": {},
   "outputs": [],
   "source": [
    "# Removing items from a list\n",
    "fruits.remove(\"cherry\")\n",
    "print(fruits)"
   ]
  },
  {
   "cell_type": "markdown",
   "metadata": {},
   "source": [
    "### Tuples\n",
    "\n",
    "A tuple is similar to a list, but it is immutable (unchangeable).\n",
    "Tuples are defined using parentheses `()`.\n",
    "\n",
    "**Related material:** [Tuples](https://python.crumblearn.org/basics/collections/tuple/)"
   ]
  },
  {
   "cell_type": "code",
   "execution_count": null,
   "metadata": {},
   "outputs": [],
   "source": [
    "# Creating a tuple\n",
    "coordinates = (4, 5)"
   ]
  },
  {
   "cell_type": "code",
   "execution_count": null,
   "metadata": {},
   "outputs": [],
   "source": [
    "# Accessing items by index\n",
    "print(coordinates[0])"
   ]
  },
  {
   "cell_type": "code",
   "execution_count": null,
   "metadata": {},
   "outputs": [],
   "source": [
    "# Tuples are immutable, so you cannot modify them\n",
    "coordinates[0] = 10"
   ]
  },
  {
   "cell_type": "markdown",
   "metadata": {},
   "source": [
    "### Dictionaries\n",
    "\n",
    "A dictionary is a collection that stores data in key-value pairs.\n",
    "Dictionaries are defined using curly braces `{}`.\n",
    "\n",
    "**Related material:** [Dictionary](https://python.crumblearn.org/basics/collections/dict/)"
   ]
  },
  {
   "cell_type": "code",
   "execution_count": null,
   "metadata": {},
   "outputs": [],
   "source": [
    "# Creating a dictionary\n",
    "person = {\"name\": \"Alice\", \"age\": 25, \"city\": \"New York\"}"
   ]
  },
  {
   "cell_type": "code",
   "execution_count": null,
   "metadata": {},
   "outputs": [],
   "source": [
    "# Accessing values by key\n",
    "print(person[\"name\"])"
   ]
  },
  {
   "cell_type": "code",
   "execution_count": null,
   "metadata": {},
   "outputs": [],
   "source": [
    "person[\"age\"] = 26\n",
    "print(person)"
   ]
  },
  {
   "cell_type": "code",
   "execution_count": null,
   "metadata": {},
   "outputs": [],
   "source": [
    "# Adding a new key-value pair\n",
    "person[\"profession\"] = \"Engineer\"\n",
    "print(person)"
   ]
  },
  {
   "cell_type": "code",
   "execution_count": null,
   "metadata": {},
   "outputs": [],
   "source": [
    "# Removing a key-value pair\n",
    "del person[\"city\"]\n",
    "print(person)"
   ]
  },
  {
   "cell_type": "markdown",
   "metadata": {},
   "source": [
    "**🏅 Exercises**\n",
    "\n",
    "**5.1** In this exercise, you'll work with a list of your favorite movies, making modifications to practice managing and updating data.\n",
    "Start by creating a list of your favorite movies, including at least a few titles that you enjoy.\n",
    "Once your initial list is ready, add a new movie to it, expanding your collection.\n",
    "Next, update the list by replacing the second movie with a different title of your choice.\n",
    "Finally, remove the last movie from the list, leaving you with a revised selection of your favorites.\n",
    "This exercise will help you practice creating, updating, and modifying lists step by step."
   ]
  },
  {
   "cell_type": "code",
   "execution_count": null,
   "metadata": {},
   "outputs": [],
   "source": []
  },
  {
   "cell_type": "markdown",
   "metadata": {},
   "source": [
    "**5.2** In this exercise, you'll work with tuples, which are immutable sequences in Python.\n",
    "Begin by creating a tuple containing three numbers of your choice.\n",
    "Once the tuple is defined, print the first number and the last number in the tuple. This will help you practice accessing elements in a tuple by their position."
   ]
  },
  {
   "cell_type": "code",
   "execution_count": null,
   "metadata": {},
   "outputs": [],
   "source": []
  },
  {
   "cell_type": "markdown",
   "metadata": {},
   "source": [
    "**5.3** \n",
    "\n",
    "1. Create a dictionary to represent a shopping cart with the following items and their quantities:\n",
    "   - `\"apple\": 3`\n",
    "   - `\"banana\": 2`\n",
    "   - `\"milk\": 1`\n",
    "2. Update the quantity of `\"apple\"` to `5`.\n",
    "3. Add a new item to the dictionary: `\"bread\"` with a quantity of `2`.\n",
    "4. Remove the item `\"banana\"` from the dictionary.\n",
    "5. Print the updated shopping cart to display the final contents and their quantities."
   ]
  },
  {
   "cell_type": "code",
   "execution_count": null,
   "metadata": {},
   "outputs": [],
   "source": []
  },
  {
   "cell_type": "markdown",
   "metadata": {},
   "source": [
    "## Loops\n",
    "\n",
    "In this section, you will learn:\n",
    "\n",
    "- How to use `for` and `while` loops to repeat actions.\n",
    "- How to use the `range()` function to control loops.\n",
    "\n",
    "**Related material:** [Loops](https://python.crumblearn.org/basics/loops/)\n",
    "\n",
    "Loops allow you to repeat a block of code multiple times. Python supports two main types of loops:\n",
    "\n",
    "1. **`for` loops:** Used to iterate over a sequence (e.g., a list or a range of numbers).\n",
    "2. **`while` loops:** Used to repeat code as long as a condition is `True`."
   ]
  },
  {
   "cell_type": "markdown",
   "metadata": {},
   "source": [
    "### for\n",
    "\n",
    "A `for` loop iterates over a sequence (like a list or string) and executes a block of code for each item."
   ]
  },
  {
   "cell_type": "code",
   "execution_count": null,
   "metadata": {},
   "outputs": [],
   "source": [
    "# Iterating over a list\n",
    "fruits = [\"apple\", \"banana\", \"cherry\"]\n",
    "for fruit in fruits:\n",
    "    print(fruit)"
   ]
  },
  {
   "cell_type": "code",
   "execution_count": null,
   "metadata": {},
   "outputs": [],
   "source": [
    "# Iterating over a string\n",
    "for char in \"Python\":\n",
    "    print(char)"
   ]
  },
  {
   "cell_type": "markdown",
   "metadata": {},
   "source": [
    "### range()\n",
    "\n",
    "The `range()` function generates a sequence of numbers, often used in loops."
   ]
  },
  {
   "cell_type": "code",
   "execution_count": null,
   "metadata": {},
   "outputs": [],
   "source": [
    "for i in range(5):\n",
    "    print(i)"
   ]
  },
  {
   "cell_type": "code",
   "execution_count": null,
   "metadata": {},
   "outputs": [],
   "source": [
    "for i in range(1, 6):\n",
    "    print(i)"
   ]
  },
  {
   "cell_type": "code",
   "execution_count": null,
   "metadata": {},
   "outputs": [],
   "source": [
    "for i in range(0, 10, 2):\n",
    "    print(i)"
   ]
  },
  {
   "cell_type": "code",
   "execution_count": null,
   "metadata": {},
   "outputs": [],
   "source": [
    "for i in range(5):\n",
    "    print(\"Yay!\")"
   ]
  },
  {
   "cell_type": "markdown",
   "metadata": {},
   "source": [
    "### while\n",
    "\n",
    "A `while` loop keeps executing as long as a condition is `True`."
   ]
  },
  {
   "cell_type": "code",
   "execution_count": null,
   "metadata": {},
   "outputs": [],
   "source": [
    "count = 0\n",
    "while count < 5:\n",
    "    print(count)\n",
    "    count += 1"
   ]
  },
  {
   "cell_type": "markdown",
   "metadata": {},
   "source": [
    "### Breaking out\n",
    "\n",
    "You can use `break` to exit a loop and `continue` to skip the rest of the current iteration."
   ]
  },
  {
   "cell_type": "code",
   "execution_count": null,
   "metadata": {},
   "outputs": [],
   "source": [
    "for i in range(10):\n",
    "    if i == 5:\n",
    "        break\n",
    "    print(i)"
   ]
  },
  {
   "cell_type": "code",
   "execution_count": null,
   "metadata": {},
   "outputs": [],
   "source": [
    "for i in range(5):\n",
    "    if i == 2:\n",
    "        continue\n",
    "    print(i)"
   ]
  },
  {
   "cell_type": "markdown",
   "metadata": {},
   "source": [
    "**🏅 Exercises**\n",
    "\n",
    "**6.1**: Write a `for` loop to print even numbers between 0 and 20."
   ]
  },
  {
   "cell_type": "code",
   "execution_count": null,
   "metadata": {},
   "outputs": [],
   "source": []
  },
  {
   "cell_type": "markdown",
   "metadata": {},
   "source": [
    "**6.2**: Write a `while` loop to print numbers from 5 down to 1."
   ]
  },
  {
   "cell_type": "code",
   "execution_count": null,
   "metadata": {},
   "outputs": [],
   "source": []
  },
  {
   "cell_type": "markdown",
   "metadata": {},
   "source": [
    "**6.3**: Write a program that uses a `for` loop to calculate the factorial of the number (e.g., `5! = 5 * 4 * 3 * 2 * 1`).\n",
    "Example output:\n",
    "\n",
    "```text\n",
    "The factorial of 5 is: 120\n",
    "```"
   ]
  },
  {
   "cell_type": "code",
   "execution_count": null,
   "metadata": {},
   "outputs": [],
   "source": []
  },
  {
   "cell_type": "markdown",
   "metadata": {},
   "source": [
    "## Activities\n",
    "\n",
    "For the remainder of our class, we will work on activities to practice our new programming knowledge."
   ]
  },
  {
   "cell_type": "markdown",
   "metadata": {},
   "source": [
    "### GC content calculator\n",
    "\n",
    "In this activity, you will write a Python function that calculates the **GC content** of a DNA sequence using a `for` loop.\n",
    "GC content is the percentage of bases in a DNA sequence that are either Guanine (**G**) or Cytosine (**C**).\n",
    "\n",
    "1. Define a function named `compute_gc_content` that:\n",
    "   - Takes a single string as a parameter (representing a DNA sequence).\n",
    "   - Iterates over the characters in the sequence using a `for` loop.\n",
    "   - Counts the occurrences of `G` and `C` bases (case-insensitive).\n",
    "   - Computes the GC content as a percentage of the total sequence length.\n",
    "   - Returns the GC content as a float rounded to two decimal places.\n",
    "2. Your function should:\n",
    "   - Ignore lowercase vs. uppercase differences (e.g., treat \"G\" and \"g\" the same).\n",
    "   - Handle cases where the input string is empty by returning `0.0`.\n",
    "\n",
    "**Example 1:**\n",
    "\n",
    "```python\n",
    "# Input\n",
    "dna_sequence = \"AGCTATAG\"\n",
    "result = compute_gc_content(dna_sequence)\n",
    "\n",
    "# Output\n",
    "print(result)  # Output: 37.50\n",
    "```\n",
    "\n",
    "**Example 2:**\n",
    "\n",
    "```python\n",
    "# Input\n",
    "dna_sequence = \"GGGCCC\"\n",
    "result = compute_gc_content(dna_sequence)\n",
    "\n",
    "# Output\n",
    "print(result)  # Output: 100.00\n",
    "```\n",
    "\n",
    "**Example 3:**\n",
    "\n",
    "```python\n",
    "# Input\n",
    "dna_sequence = \"\"\n",
    "result = compute_gc_content(dna_sequence)\n",
    "\n",
    "# Output\n",
    "print(result)  # Output: 0.0\n",
    "```\n",
    "\n",
    "**Hints**\n",
    "\n",
    "1. Use a `for` loop to iterate through each character in the DNA sequence.\n",
    "2. Use an accumulator variable to count the number of `G` and `C` bases.\n",
    "3. Use the `len()` function to calculate the total length of the DNA sequence."
   ]
  },
  {
   "cell_type": "code",
   "execution_count": null,
   "metadata": {},
   "outputs": [],
   "source": []
  },
  {
   "cell_type": "markdown",
   "metadata": {},
   "source": [
    "For a bonus challenge, modify your function to:\n",
    "\n",
    "- Skip invalid characters (anything other than `A`, `T`, `G`, or `C`) and continue processing.\n",
    "- Print a warning if invalid characters are detected.\n",
    "   \n",
    "Test your function with sequences like: `\"AGCTXTAGGZ\"` and `\"123AGCT!\"`"
   ]
  },
  {
   "cell_type": "markdown",
   "metadata": {},
   "source": [
    "### Counting base frequencies\n",
    "\n",
    "In this activity, you will write a Python function that calculates the frequency of each base (A, T, G, C) in a DNA sequence.\n",
    "This activity builds on your understanding of loops and adds a layer of complexity by introducing dictionaries.\n",
    "\n",
    "1. Define a function named `count_base_frequencies` that:\n",
    "   - Takes a single string as a parameter (representing a DNA sequence).\n",
    "   - Uses a dictionary to store the counts for each base (`A`, `T`, `G`, and `C`).\n",
    "   - Iterates over the DNA sequence using a `for` loop and updates the dictionary counts.\n",
    "   - Returns the dictionary with base frequencies.\n",
    "2. Your function should:\n",
    "   - Ignore case sensitivity (e.g., treat \"G\" and \"g\" the same).\n",
    "   - Handle cases where the input string contains invalid characters by skipping them.\n",
    "   - Handle an empty string by returning an empty dictionary.\n",
    "\n",
    "**Example 1:**\n",
    "\n",
    "```python\n",
    "# Input\n",
    "dna_sequence = \"AGCTAGCTAGCTA\"\n",
    "result = count_base_frequencies(dna_sequence)\n",
    "\n",
    "# Output\n",
    "print(result)  # Output: {'A': 4, 'T': 3, 'G': 3, 'C': 3}\n",
    "```\n",
    "\n",
    "**Example 2:**\n",
    "\n",
    "```python\n",
    "# Input\n",
    "dna_sequence = \"GGGCCC\"\n",
    "result = count_base_frequencies(dna_sequence)\n",
    "\n",
    "# Output\n",
    "print(result)  # Output: {'A': 0, 'T': 0, 'G': 3, 'C': 3}\n",
    "```"
   ]
  },
  {
   "cell_type": "code",
   "execution_count": null,
   "metadata": {},
   "outputs": [],
   "source": []
  },
  {
   "cell_type": "markdown",
   "metadata": {},
   "source": [
    "For a bonus challenge, modify your function to calculate and return the frequency of invalid characters in the sequence. \n",
    "\n",
    "- Example Input: `\"AGCTXTAGGZ\"`  \n",
    "- Example Output:  \n",
    "    ```python\n",
    "    {\n",
    "        'A': 2, 'T': 2, 'G': 3, 'C': 1, 'Invalid': 2\n",
    "    }\n",
    "    ```\n"
   ]
  },
  {
   "cell_type": "markdown",
   "metadata": {},
   "source": [
    "### Computing the Average Phred Score\n",
    "\n",
    "In this activity, you will:\n",
    "\n",
    "1. Load a FASTQ file using Python's `open()` function.\n",
    "2. Use the `readlines()` method to process the contents of the file.\n",
    "3. Calculate the average Phred score for the quality scores in the FASTQ file.\n",
    "\n",
    "A **FASTQ** file contains sequencing reads and their quality scores.\n",
    "Each read spans four lines:\n",
    "\n",
    "1. **Line 1**: Sequence identifier (starts with `@`).\n",
    "2. **Line 2**: DNA sequence.\n",
    "3. **Line 3**: Separator line (starts with `+`).\n",
    "4. **Line 4**: Quality scores (one ASCII character per base).\n",
    "\n",
    "Here is an example of two FASTQ reads.\n",
    "\n",
    "```text\n",
    "@SEQ_ID\n",
    "GATTACA\n",
    "+\n",
    "IIIIIII\n",
    "@SEQ_ID2\n",
    "CCGGAAT\n",
    "+\n",
    "JJJJJJJ\n",
    "```\n",
    "\n",
    "Quality scores in the FASTQ file are encoded as ASCII characters.\n",
    "To calculate the Phred score for a character, subtract `33` from its ASCII value.\n",
    "\n",
    "```python\n",
    "phred_score = ord(character) - 33\n",
    "```\n",
    "\n",
    "**Instructions**\n",
    "\n",
    "1. Write a function `compute_average_phred` that:\n",
    "   - Takes the name of a FASTQ file as input.\n",
    "   - Reads the file line by line.\n",
    "   - Extracts quality score lines (every 4th line starting from the 4th line).\n",
    "   - Converts each character in the quality score lines to its Phred score.\n",
    "   - Computes and returns the average Phred score across all characters.\n",
    "2. Your function should handle:\n",
    "   - Empty files by returning `0.0`.\n",
    "   - Files with no quality score lines by returning `0.0`.\n",
    "\n",
    "Note: I want you to use Google to figure out how to open and read a file in Python.\n",
    "Specifically, you should use the keyword `with` in your code.\n",
    "\n",
    "You can use this [example FASTQ](/assessments/assignments/02/a02-example.fastq)."
   ]
  },
  {
   "cell_type": "code",
   "execution_count": null,
   "metadata": {},
   "outputs": [],
   "source": []
  }
 ],
 "metadata": {
  "kernelspec": {
   "display_name": "default",
   "language": "python",
   "name": "python3"
  },
  "language_info": {
   "codemirror_mode": {
    "name": "ipython",
    "version": 3
   },
   "file_extension": ".py",
   "mimetype": "text/x-python",
   "name": "python",
   "nbconvert_exporter": "python",
   "pygments_lexer": "ipython3",
   "version": "3.13.0"
  }
 },
 "nbformat": 4,
 "nbformat_minor": 2
}
