{
 "cells": [
  {
   "cell_type": "markdown",
   "metadata": {},
   "source": [
    "# FASTA\n",
    "\n",
    "In this notebook, we'll work with a DNA sequence and learn some basic programming concepts in Python.\n",
    "These exercises are designed to help you get familiar with strings, loops, and dictionaries, which are useful tools for bioinformatics.\n",
    "\n",
    "Let's start with a simple DNA sequence stored as a string in Python.\n",
    "Strings are sequences of characters, and in bioinformatics, they are often used to represent DNA sequences, where each character represents a nucleotide (`A`, `T`, `G`, `C`).\n"
   ]
  },
  {
   "cell_type": "code",
   "execution_count": 1,
   "metadata": {},
   "outputs": [],
   "source": [
    "DNA_SEQ = \"GAGCAATTTCGAGGATCGCTTGTTGGTATTACTCGGGCTTTTC\""
   ]
  },
  {
   "cell_type": "markdown",
   "metadata": {},
   "source": [
    "We have a DNA sequence stored in a variable called `DNA_SEQ`.\n",
    "Your first task is to print the sequence to see what it looks like."
   ]
  },
  {
   "cell_type": "code",
   "execution_count": 2,
   "metadata": {},
   "outputs": [
    {
     "name": "stdout",
     "output_type": "stream",
     "text": [
      "GAGCAATTTCGAGGATCGCTTGTTGGTATTACTCGGGCTTTTC\n"
     ]
    }
   ],
   "source": [
    "print(DNA_SEQ)"
   ]
  },
  {
   "cell_type": "markdown",
   "metadata": {},
   "source": [
    "The length of a DNA sequence tells us how many nucleotides it contains.\n",
    "Python provides a built-in function called len() that can calculate the length of a string."
   ]
  },
  {
   "cell_type": "code",
   "execution_count": 3,
   "metadata": {},
   "outputs": [
    {
     "name": "stdout",
     "output_type": "stream",
     "text": [
      "43\n"
     ]
    }
   ],
   "source": [
    "seq_len = len(DNA_SEQ)\n",
    "print(seq_len)"
   ]
  },
  {
   "cell_type": "markdown",
   "metadata": {},
   "source": [
    "DNA sequences consist of four nucleotides: Adenine (A), Thymine (T), Guanine (G), and Cytosine (C).\n",
    "To analyze the sequence, let's count how many times each nucleotide appears.\n",
    "\n",
    "We’ll use a dictionary to store the counts for each nucleotide, and a for loop to iterate over the sequence."
   ]
  },
  {
   "cell_type": "code",
   "execution_count": 4,
   "metadata": {},
   "outputs": [
    {
     "name": "stdout",
     "output_type": "stream",
     "text": [
      "{'A': 7, 'T': 16, 'G': 12, 'C': 8}\n"
     ]
    }
   ],
   "source": [
    "def count_nucleotides(seq):\n",
    "    nucleotide_counts = {\"A\": 0, \"T\": 0, \"G\": 0, \"C\": 0}\n",
    "\n",
    "    for nucleotide in seq:\n",
    "        if nucleotide in nucleotide_counts:\n",
    "            nucleotide_counts[nucleotide] += 1\n",
    "\n",
    "    return nucleotide_counts\n",
    "\n",
    "\n",
    "nuc_counts = count_nucleotides(DNA_SEQ)\n",
    "print(nuc_counts)"
   ]
  },
  {
   "cell_type": "code",
   "execution_count": 5,
   "metadata": {},
   "outputs": [
    {
     "name": "stdout",
     "output_type": "stream",
     "text": [
      "43\n",
      "43\n"
     ]
    }
   ],
   "source": [
    "print(seq_len)\n",
    "print(nuc_counts[\"A\"] + nuc_counts[\"T\"] + nuc_counts[\"G\"] + nuc_counts[\"C\"])"
   ]
  },
  {
   "cell_type": "markdown",
   "metadata": {},
   "source": [
    "The GC content of a DNA sequence is the percentage of G and C nucleotides in the sequence.\n",
    "This is an important metric in genomics.\n",
    "\n",
    "To calculate the GC content:\n",
    "\n",
    "1. Add the counts of G and C.\n",
    "2. Divide this sum by the total length of the sequence.\n",
    "3. Multiply by 100 to get a percentage."
   ]
  },
  {
   "cell_type": "code",
   "execution_count": 23,
   "metadata": {},
   "outputs": [
    {
     "name": "stdout",
     "output_type": "stream",
     "text": [
      "46.51162790697674\n"
     ]
    }
   ],
   "source": [
    "def get_gc_content(seq):\n",
    "    nuc_counts = count_nucleotides(seq)\n",
    "    gc_content = (nuc_counts[\"G\"] + nuc_counts[\"C\"]) / len(seq) * 100\n",
    "    return gc_content\n",
    "\n",
    "\n",
    "seq_gc_content = get_gc_content(DNA_SEQ)\n",
    "# Print the GC content\n",
    "print(seq_gc_content)"
   ]
  },
  {
   "cell_type": "code",
   "execution_count": 26,
   "metadata": {},
   "outputs": [
    {
     "name": "stdout",
     "output_type": "stream",
     "text": [
      "GC Content: 46.5%\n"
     ]
    }
   ],
   "source": [
    "print(f\"GC Content: {seq_gc_content:.1f}%\")"
   ]
  },
  {
   "cell_type": "markdown",
   "metadata": {},
   "source": [
    "Now, let us consider a much longer DNA sequence."
   ]
  },
  {
   "cell_type": "code",
   "execution_count": 8,
   "metadata": {},
   "outputs": [],
   "source": [
    "DNA_SEQ_LONG = \"\"\"GAGCAATTTCGAGGATCGCTTGTTGGTATTACTCGGGCTTTTCGTTTTTTAAACTCAAGG\n",
    "TACGCAAGGACCGCGCGCAGTCGACATGAACGTCAGTTGCTATGGGAACGTTGACAGAAT\n",
    "GTGAGGAAGGCAGCGCATGCACTCTGCCTGGCAATTTGTTGTGTATTCGGTGGTTGGGCT\n",
    "CGGTGAAGGTGTATTACGACCGAACGACGGATTGGATCGACAAGCATGGCACGTATGATC\n",
    "ACTTAGTGTGACTCACTGGTGAAGACACTCTGCAGTCCGTTGGAACTCATGTTGGAAGGC\n",
    "AGGCGGGGACTCACTGTTAGACGGGCGGTTGCCTTTCGATGCGCCAGATGACGAAAGCTC\n",
    "GTTCCTATGGCCCTCGACGCGGGAGTCTTACCTGACCTTTGCTCTCGCTAAAAGAGATAC\n",
    "CTTTGGCACCGGGCTCGATCCTGTGTAGGCCGCAGACGATGCGGGCCAAATTAGTTCAGC\n",
    "AAAAACCTAGTGGTTTGCCCAGGCATGAACCACTTTGTCCTGACCGGAGAGAATTGATCA\n",
    "ATGAGGATGATTCGTTGCTTAGGCCGAGAACGGCCCACGCTCTCCACCGGGAGCAAAAAC\n",
    "GAGCTTCGTTAACTGGGGGGGGGCTATGCCGTCGCGGCCCTGCCTGGACACAAAAAGATG\n",
    "AAAATCAGAAATAGGGAGTGGTAGAACAATATTTAATGAACTTCCTTCCATATATCTTGT\n",
    "TGGAAATCGCAATGTATACCACGGTACGTTGTGGCACGAAAAGCCTAAACCACCATATCT\n",
    "CTAGAGAGGAATTAAAACGCCCGGATGCGGCCAGCAGCATGTTACGTTGCAGGTCGGAAA\n",
    "CAATGGATTCCTTAGCCCTCTACTACGCGTTTCCCGACTTTTGGTTACCATGGGTTTTGT\n",
    "AGCGATAAAACTATCCGTATACTACTGGTCGCTCTTGTCTAGTTATTCGAGTACTATATC\n",
    "CAATATTCTGTCTATAGCGTTTGTGATGCCCTATTGTATACATCCTAGCGGCCTACTCGT\n",
    "ACATATTGTCTTTTACTCTAATTCAACGTTAATTACCCTCCGCCCCCCTTCCACATACAG\n",
    "CCCGACCGCTCGACGTCTGTGCGGTTCGTGCCTCCCTGCCCCTGTAGTAAACTTGTTAGT\n",
    "AAAGCAACTACCGACCACTGTGCACAACTGACAACCATTTTTGGTTGCCGTCATTGAATG\n",
    "TACGTGGAGCACTTTCGGAACACAGGTCTCGATAAACCTCCGGAGGAGACGAGTTCAGAC\n",
    "AAAACTAGCTTGCAAGGTCAAAGCGACACTGGAAGAAGAGTCCGTTATCTACGTTGCGCC\n",
    "CTGCGATCTTGGTCGAGTATGACTGTGCGCGGGCGTGCCTCCCACAACTGCCACACTCTT\n",
    "CCGTCGGTGTGCAGGATGGTTTCGGATCGTGAGACACGGGCAATAACCATTGGGATGCAC\n",
    "TGGGTCTGACGAGGATCATCCGGTGAGCGTCGAGTCCGTCAGAGACTGCTTCCGTATTCT\n",
    "TCGTAATGTCCAGATCGGCATCACGCACTAACCAGGTCGTGTCAAATGCCCGTTGACACC\n",
    "TGAAGTAGTCGGAATTTCTCTATACAAGCTCAGCAGGATACCCTCACGCGACAATTAGAC\n",
    "ATTCACTGCGCCAAACACCACCTGTTCGTGCCGTATCTGGACTAGGACAAGAACGGCGCT\n",
    "ACTCCCTCCGACGTAAATCCCTCATTTGTGTGTTTAGCCAACACCCGCATCGGTCCTCAT\n",
    "AGACCTTTCCCCGGTGCGTTTTACCCCTGGGTTGACCTCGCGGGCGCAAAAGTACCTACA\n",
    "CGTAACGTTTGAACACTACAAAAACATAGTTCCTGATCTTCTCGTGATACTGTCCTCTTA\n",
    "TTAAAGAAAATGAGTGTAGTCTTTCACCATACTATCGGTCGTGGATTTTCCACGCCTTCA\n",
    "TGTAGATTATCAACGCTTGACTCGGCCTAGAGTAACGGAGTCCTCACGTCAAGGCGTGTT\n",
    "GACTGAGCTACGGGCAGATGTTTAGGTTTGGATTTGGAGGAAGGCCTATACCTGTATTAG\n",
    "TTCCATGAGCGCAGTGCACTGCAGTGTGTACGGAGGCCTGCCTCGCGGATACCTCACCAA\n",
    "AAGAGAATAGCACCCCTGGGTAGCCTTTACGNAAATAGATTGATATGGTCATAGGTGGAC\n",
    "AGTCGGGCATCTAGCTCATACTGTCGTCCCGTTAGAGAATTACCTGATGGGTTTCAACCT\n",
    "AAGGCCCGTAGCTTTTACGCCCCAACTGACACCCCCCTGTTAACCCCGACAATCCAAGTC\n",
    "TCTAACGCAGGAGAGGCTAGGAACGGCCGAAGCCGTCCAGGCGCGCCGATTGTACATCCG\n",
    "CCTATGCCCCGAGCGCTGGCTTCGGGGGTTCTCCCGGATCTTCATAACATATCGCCATTG\n",
    "ATGTGTACACTTTCTCGCAGTGGCCAAATCGTTAACAGTGTAAGTGGTATTGGGCGCGAA\n",
    "AAGCTAACCCGCCGGGAATGACTTTGCGTTTAGGCATACGTAATACCCGATTGCATTGGT\n",
    "AAGGTCAGCGCACGCCGAGCCTCGCAGGACGACCTCAATTCACAACGAATACCCAATAGA\n",
    "GTAGAAACACTACTTTATACGCACGAATAGATGGGCCCTAAAATCCGGGACACCGGCGGT\n",
    "GCAGATTACCCGGCGCGATCCCTCCTAATCATCAAACACGCCTCCTCCGACCTCAACCGG\n",
    "ACGGGCTAGCTAACGTAGAAAACCGCCCGTCACAGTTCTCAACAGCTTGTGGATCACAGG\n",
    "CAGCCATATTGCTGACGTCTCACGGGGCGTCGAGCACGTCAGGCTACAGAAACCTTGCAG\n",
    "CGGCAGTGGCGGAGATAATCTCTATTTCAGCCGAGCCGGACTGGCCTCCTTAGTTCGGAG\n",
    "AAGCAGGGACCCCTACGCGGCGAGATTCGCTACACAGAACGCGACTATCTGACCGACTTT\n",
    "GCCCTAGCTTAAGTCAGTTATACCAAAGATGTTCCGACGATTCCTTCTTTGTTCGGACCT\n",
    "ATCCGAAATCATTTACACCTCAGGCGACCACTTACGGCACAATTCGGCTTGGCCAAACAC\n",
    "ATGGTCCCGCCGGATAAAACTCGATTTGGATATGCCTGTCATAAGTCGATCCCTGCACCT\n",
    "GGGGGTGGATAGTCATGTTGCTACTTCTGCCTATTCGGGGGGTGATATGGTACTGCCCAA\n",
    "CTCTCATCCGTTCTAGCATATCGGCAAGGAAAGCTCACAGGCCAGCACCGGACTCCATCA\n",
    "CCGTCCGCTTAATTATAAAATCCACTTTGAAAAGTTGTGCAATGAAAGGACCCCAAGGCA\n",
    "GTTGTCGTACCGGTGAAGTAGGCAGTTGATATGGTTACTTACGACACGGTTAATTAAACT\n",
    "TTGCGGGAGCCCCAACGATGATGGCCTGAGTGCGATAAGACCGTGTACGGACTCAATTAA\n",
    "CATCTTAGCTTGGGATGTTTACAAATAGGCGAAACCATTAGTAACGAACGGCTATATTTA\n",
    "TGGGTGCTTAACGTGTCGATCCAGGCCGAAGGAGAGCTAGGTTATCTCGTAACAGCAGCC\n",
    "AGCTGCCACCCCCGGATCGAGCTTCTTTTGTACACCTAAAGAGCAGTTACGGCCGGATGA\n",
    "CGCAACCATAGCTGTGAACGATAACGTCTGATCAGCGAGTATCCGGTTCATCATGGCCTT\n",
    "GGTTTTAAAAAATAGATGTTAGCGGACTGTCCGCATATTTCAGCAATTGCCGCGTAATGC\n",
    "GGATAGATGCTCCATTGCAAGAGTTTGTGAAAAGTGGTCCTTAGGCAGGTGTTGAATGAG\n",
    "GTTCGTTATTCGCGCTTATTTGACGCTAAATTTTTACGAAACAAACGCCCCGTGCAAACG\n",
    "CCGGTCCCGGATGTACTCACGCCGTTCGTTGTTGGGGCGAAGGCAAGCTAACTGCTGACC\n",
    "TTGCGTTAGTGCTCCACCCGAGCCAGAAGTCTTGTATATTTCCCATCAGGCTACACCAAT\n",
    "ACTTTGTAAAGTCCGTATTGAGGCCGTTGTAGCTGTTCCGCGTATAGCACAACGCTCCAG\n",
    "GCTTCTGCCCGGTAGGCTCAGCATGAACGACACGTAATGTATTAGAACGTCCAGGCAAAT\n",
    "GCTCCTAGAACTATGGAGGGCACTGCTATGCGGGGATGGCCGAGGGGCCTGATGCGTTCG\n",
    "AAAGTCAGCAGTGGGACAGTCAGCCTAGCTGTCGGTCACTCCCCCCGTCTTAATGGCGTG\n",
    "TTCCCGCCCCCGTGCGGCCAGCTATTACCCCAGAGTACCGTTGCGATTTCAGGGTACGCG\n",
    "TCATTGGGTGTGTGATGTGGATGATGCCATGCCTCTCGGCATTAAGTCTTAGGGCTTCTA\n",
    "AACCATTTCTACAACCACAATAGGCGGTAGCAGTTCGGTAGATGGAAGCAACTACCGCAA\n",
    "TGATGGGAGATTCTGGTCGATCTTTTTAGCAGGTGACATAACGGCCCAGCGAATATCTTG\n",
    "ATCGATTGGGGGAGCCCGAAAGAGTTAAAGCACATCGTCTCCCAGATAGTCAGCGCGCAG\n",
    "CCGACCTGGGGTCCGAATGAACGAGCTGCCGGTTAGATTTGCCCTCGACTATATGCAAGC\n",
    "CGATTGACGTTTTGGCAGCAAACTCGCATTTCCCTTAAGAATCGCGGACCGGAGTTGCTC\n",
    "GTGCAAACACCGTTGATTACAATGTGTGCGCTTGAGGGCGGCGAACAGACTCCCGTGAGG\n",
    "AAGCATCCCTCTCGGAATTAGGCGCGACCCGCCGAGGCTACGGGTTGTTGCCTCTGATCT\n",
    "TTTCCATCAATCAGTTGCTAGATCCGTCATTATGTACGATCGCGCAAACTTTTAAAATTA\n",
    "GGAGCTCGAGAACTCGTTTTTTCTCCTATACTAGAACAGTGACAGATACGCTTATCATGC\n",
    "GCAAGGAGGATGAGGTAGACAGGAGGTGGACGGCTATCATATATAGTGCTAGACCTGTAG\n",
    "TTACGTCGACAGGCTAAAGCCTACATATCGGCAAAGTTTACAGGCGAAAATGAGCATCAG\n",
    "TTCCCCAGGCGTATATCTGG\"\"\""
   ]
  },
  {
   "cell_type": "markdown",
   "metadata": {},
   "source": [
    "Let's see how long the sequence is."
   ]
  },
  {
   "cell_type": "code",
   "execution_count": 9,
   "metadata": {},
   "outputs": [
    {
     "name": "stdout",
     "output_type": "stream",
     "text": [
      "5083\n"
     ]
    }
   ],
   "source": [
    "seq_len_long = len(DNA_SEQ_LONG)\n",
    "print(seq_len_long)"
   ]
  },
  {
   "cell_type": "markdown",
   "metadata": {},
   "source": [
    "Now let's count the nucleotides."
   ]
  },
  {
   "cell_type": "code",
   "execution_count": 10,
   "metadata": {},
   "outputs": [
    {
     "name": "stdout",
     "output_type": "stream",
     "text": [
      "{'A': 1221, 'T': 1229, 'G': 1265, 'C': 1284}\n"
     ]
    }
   ],
   "source": [
    "nuc_counts_long = count_nucleotides(DNA_SEQ_LONG)\n",
    "print(nuc_counts_long)"
   ]
  },
  {
   "cell_type": "markdown",
   "metadata": {},
   "source": [
    "Perform a sanity check that they match."
   ]
  },
  {
   "cell_type": "code",
   "execution_count": 11,
   "metadata": {},
   "outputs": [
    {
     "name": "stdout",
     "output_type": "stream",
     "text": [
      "5083\n",
      "4999\n"
     ]
    }
   ],
   "source": [
    "print(seq_len_long)\n",
    "print(\n",
    "    nuc_counts_long[\"A\"]\n",
    "    + nuc_counts_long[\"T\"]\n",
    "    + nuc_counts_long[\"G\"]\n",
    "    + nuc_counts_long[\"C\"]\n",
    ")"
   ]
  },
  {
   "cell_type": "markdown",
   "metadata": {},
   "source": [
    "What's wrong?\n",
    "Well, let's find a way to print all unique characters present in the string."
   ]
  },
  {
   "cell_type": "code",
   "execution_count": 12,
   "metadata": {},
   "outputs": [
    {
     "name": "stdout",
     "output_type": "stream",
     "text": [
      "{'A', 'N', 'T', 'G', '\\n', 'C'}\n"
     ]
    }
   ],
   "source": [
    "print(set(DNA_SEQ_LONG))"
   ]
  },
  {
   "cell_type": "markdown",
   "metadata": {},
   "source": [
    "We can remove these characters by using the `replace` method."
   ]
  },
  {
   "cell_type": "code",
   "execution_count": 13,
   "metadata": {},
   "outputs": [
    {
     "name": "stdout",
     "output_type": "stream",
     "text": [
      "{'A', 'T', 'G', 'N', 'C'}\n"
     ]
    }
   ],
   "source": [
    "DNA_SEQ_LONG_CLEAN = DNA_SEQ_LONG.replace(\"\\n\", \"\")\n",
    "print(set(DNA_SEQ_LONG_CLEAN))"
   ]
  },
  {
   "cell_type": "markdown",
   "metadata": {},
   "source": [
    "We have to write a new function to count all unique characters, regardless if they are nucleotides or not."
   ]
  },
  {
   "cell_type": "code",
   "execution_count": 14,
   "metadata": {},
   "outputs": [],
   "source": [
    "def count_characters(seq):\n",
    "    char_counts = {}\n",
    "\n",
    "    for nucleotide in seq:\n",
    "        if nucleotide in char_counts:\n",
    "            char_counts[nucleotide] += 1\n",
    "        else:\n",
    "            char_counts[nucleotide] = 1\n",
    "\n",
    "    return char_counts"
   ]
  },
  {
   "cell_type": "code",
   "execution_count": 15,
   "metadata": {},
   "outputs": [
    {
     "name": "stdout",
     "output_type": "stream",
     "text": [
      "{'G': 1265, 'A': 1221, 'C': 1284, 'T': 1229, 'N': 1}\n"
     ]
    }
   ],
   "source": [
    "char_counts_long = count_characters(DNA_SEQ_LONG_CLEAN)\n",
    "print(char_counts_long)"
   ]
  },
  {
   "cell_type": "markdown",
   "metadata": {},
   "source": [
    "Redo our sanity check."
   ]
  },
  {
   "cell_type": "code",
   "execution_count": 16,
   "metadata": {},
   "outputs": [
    {
     "name": "stdout",
     "output_type": "stream",
     "text": [
      "5000\n",
      "5000\n"
     ]
    }
   ],
   "source": [
    "print(len(DNA_SEQ_LONG_CLEAN))\n",
    "print(\n",
    "    char_counts_long[\"A\"]\n",
    "    + char_counts_long[\"T\"]\n",
    "    + char_counts_long[\"G\"]\n",
    "    + char_counts_long[\"C\"]\n",
    "    + char_counts_long[\"N\"]\n",
    ")"
   ]
  },
  {
   "cell_type": "markdown",
   "metadata": {},
   "source": [
    "## Download and read file"
   ]
  },
  {
   "cell_type": "code",
   "execution_count": 17,
   "metadata": {},
   "outputs": [],
   "source": [
    "import requests"
   ]
  },
  {
   "cell_type": "code",
   "execution_count": 18,
   "metadata": {},
   "outputs": [],
   "source": [
    "# URL to the raw content of the file\n",
    "fasta_url = \"https://github.com/oasci/pitt-biosc1540-2025s/raw/refs/heads/main/content/data/fasta/synthetic.fasta\"\n",
    "\n",
    "# Fetch the file content\n",
    "response = requests.get(fasta_url)\n",
    "\n",
    "# Handles HTTP request codes\n",
    "if response.status_code == 200:\n",
    "    FASTA_FILE = response.text\n",
    "else:\n",
    "    print(f\"Failed to fetch file. Status code: {response.status_code}\")"
   ]
  },
  {
   "cell_type": "code",
   "execution_count": 20,
   "metadata": {},
   "outputs": [
    {
     "name": "stdout",
     "output_type": "stream",
     "text": [
      "5000\n"
     ]
    }
   ],
   "source": [
    "def get_seqs_from_fasta(fasta):\n",
    "    seqs = []\n",
    "    for line in fasta.split(\"\\n\"):\n",
    "        if len(line) > 0 and line[0] != \">\":\n",
    "            seqs.append(line)\n",
    "    return seqs\n",
    "\n",
    "\n",
    "seqs = get_seqs_from_fasta(FASTA_FILE)\n",
    "print(len(seqs))"
   ]
  }
 ],
 "metadata": {
  "kernelspec": {
   "display_name": "sci",
   "language": "python",
   "name": "python3"
  },
  "language_info": {
   "codemirror_mode": {
    "name": "ipython",
    "version": 3
   },
   "file_extension": ".py",
   "mimetype": "text/x-python",
   "name": "python",
   "nbconvert_exporter": "python",
   "pygments_lexer": "ipython3",
   "version": "3.13.1"
  }
 },
 "nbformat": 4,
 "nbformat_minor": 2
}
